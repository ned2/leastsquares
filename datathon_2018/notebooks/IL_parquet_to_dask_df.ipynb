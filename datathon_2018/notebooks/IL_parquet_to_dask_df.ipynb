{
 "cells": [
  {
   "cell_type": "markdown",
   "metadata": {},
   "source": [
    "## Aim\n",
    "This script aims to get an idea of basic dask dataframe performance for \n",
    "- reading in parquet files\n",
    "- counting the number of rows\n",
    "- creating an index\n",
    "\n",
    "This is run on a kubernetes cluster with 5 nodes - 3 masters (t2.micros) and 2 worker nodes (t2.large), and 1 bastion host\n",
    "Possibly we should have larger master nodes, and more worker nodes. \n",
    "\n",
    "## Conclusion:\n",
    "Dask is less performant than spark at operations like reading in, counting rows. \n",
    "I recommend using dask on smaller dataframes once spark has done the work of aggregating to get means, etc. \n"
   ]
  },
  {
   "cell_type": "code",
   "execution_count": 1,
   "metadata": {},
   "outputs": [
    {
     "name": "stderr",
     "output_type": "stream",
     "text": [
      "/opt/conda/lib/python3.6/importlib/_bootstrap.py:219: RuntimeWarning: numpy.dtype size changed, may indicate binary incompatibility. Expected 96, got 88\n",
      "  return f(*args, **kwds)\n",
      "/opt/conda/lib/python3.6/importlib/_bootstrap.py:219: RuntimeWarning: numpy.dtype size changed, may indicate binary incompatibility. Expected 96, got 88\n",
      "  return f(*args, **kwds)\n"
     ]
    }
   ],
   "source": [
    "import numpy as np\n",
    "import pandas as pd\n",
    "import dask\n",
    "import boto3\n",
    "import os\n",
    "import io\n",
    "import dask.dataframe as dd\n",
    "import s3fs\n",
    "import pyarrow"
   ]
  },
  {
   "cell_type": "markdown",
   "metadata": {},
   "source": [
    "set up credentials in file"
   ]
  },
  {
   "cell_type": "code",
   "execution_count": 2,
   "metadata": {},
   "outputs": [],
   "source": [
    "# insert your access key credentials\n",
    "os.environ[\"AWS_ACCESS_KEY_ID\"] = \"xxxxxx\"\n",
    "os.environ[\"AWS_SECRET_ACCESS_KEY\"] = \"xxxxxx\""
   ]
  },
  {
   "cell_type": "code",
   "execution_count": null,
   "metadata": {},
   "outputs": [],
   "source": []
  },
  {
   "cell_type": "code",
   "execution_count": 1,
   "metadata": {},
   "outputs": [
    {
     "data": {
      "text/html": [
       "<table style=\"border: 2px solid white;\">\n",
       "<tr>\n",
       "<td style=\"vertical-align: top; border: 0px solid white\">\n",
       "<h3>Client</h3>\n",
       "<ul>\n",
       "  <li><b>Scheduler: </b>tcp://lolling-bronco-dask-scheduler:8786\n",
       "  <li><b>Dashboard: </b><a href='http://lolling-bronco-dask-scheduler:8787/status' target='_blank'>http://lolling-bronco-dask-scheduler:8787/status</a>\n",
       "</ul>\n",
       "</td>\n",
       "<td style=\"vertical-align: top; border: 0px solid white\">\n",
       "<h3>Cluster</h3>\n",
       "<ul>\n",
       "  <li><b>Workers: </b>6</li>\n",
       "  <li><b>Cores: </b>12</li>\n",
       "  <li><b>Memory: </b>50.25 GB</li>\n",
       "</ul>\n",
       "</td>\n",
       "</tr>\n",
       "</table>"
      ],
      "text/plain": [
       "<Client: scheduler='tcp://100.96.3.5:8786' processes=6 cores=12>"
      ]
     },
     "execution_count": 1,
     "metadata": {},
     "output_type": "execute_result"
    }
   ],
   "source": [
    "from dask.distributed import Client, progress\n",
    "c = Client()\n",
    "c"
   ]
  },
  {
   "cell_type": "code",
   "execution_count": 3,
   "metadata": {},
   "outputs": [
    {
     "name": "stdout",
     "output_type": "stream",
     "text": [
      "CPU times: user 0 ns, sys: 0 ns, total: 0 ns\n",
      "Wall time: 6.2 µs\n"
     ]
    }
   ],
   "source": [
    "%timeit\n",
    "# test readubg single pandas file to dask array\n",
    "s3 = boto3.client('s3')\n",
    "bucket='datathon-2018'\n",
    "key='raw/MelbDatathon2018/Samp_0/ScanOnTransaction/2015/Week27/QID3530815_20180713_20515_0.txt.gz'\n",
    "obj = s3.get_object(Bucket=bucket, Key=key)\n",
    "df_pd = pd.read_csv(io.BytesIO(obj['Body'].read()),compression='gzip')"
   ]
  },
  {
   "cell_type": "markdown",
   "metadata": {},
   "source": [
    "lets see the list of parquet files"
   ]
  },
  {
   "cell_type": "code",
   "execution_count": 33,
   "metadata": {},
   "outputs": [],
   "source": [
    "#create file list you wish to read from\n",
    "s3 = boto3.resource('s3')\n",
    "bucket_name='datathon-2018'\n",
    "bucket=s3.Bucket(bucket_name)\n",
    "file_list_on=[]\n",
    "#!for obj in bucket.objects.filter(Prefix='raw/MelbDatathon2018/Samp_0/'):\n",
    "#    if(obj.key.endswith(\".txt.gz\")):\n",
    "#        file_list.append(obj.key)\n",
    "#                               \n",
    "\n",
    "file_list=[obj.key for obj in bucket.objects.filter(Prefix='parquet/taps/') if obj.key.endswith(\".parquet\")]"
   ]
  },
  {
   "cell_type": "code",
   "execution_count": null,
   "metadata": {},
   "outputs": [],
   "source": [
    "#for file in file_list:\n",
    "#    print(file)"
   ]
  },
  {
   "cell_type": "code",
   "execution_count": 7,
   "metadata": {},
   "outputs": [
    {
     "name": "stdout",
     "output_type": "stream",
     "text": [
      "CPU times: user 0 ns, sys: 0 ns, total: 0 ns\n",
      "Wall time: 295 µs\n"
     ]
    },
    {
     "data": {
      "text/html": [
       "<div>\n",
       "<style scoped>\n",
       "    .dataframe tbody tr th:only-of-type {\n",
       "        vertical-align: middle;\n",
       "    }\n",
       "\n",
       "    .dataframe tbody tr th {\n",
       "        vertical-align: top;\n",
       "    }\n",
       "\n",
       "    .dataframe thead th {\n",
       "        text-align: right;\n",
       "    }\n",
       "</style>\n",
       "<table border=\"1\" class=\"dataframe\">\n",
       "  <thead>\n",
       "    <tr style=\"text-align: right;\">\n",
       "      <th></th>\n",
       "      <th>1|2015-07-02|2015-07-02 13:08:13|1524480|9|1222|415|10883|15084</th>\n",
       "    </tr>\n",
       "  </thead>\n",
       "  <tbody>\n",
       "    <tr>\n",
       "      <th>0</th>\n",
       "      <td>3|2015-07-02|2015-07-02 07:33:58|1756270|2|109...</td>\n",
       "    </tr>\n",
       "    <tr>\n",
       "      <th>1</th>\n",
       "      <td>1|2015-07-02|2015-07-02 16:42:38|10560630|2|14...</td>\n",
       "    </tr>\n",
       "    <tr>\n",
       "      <th>2</th>\n",
       "      <td>1|2015-07-01|2015-07-01 11:07:08|11812440|2|28...</td>\n",
       "    </tr>\n",
       "    <tr>\n",
       "      <th>3</th>\n",
       "      <td>1|2015-07-01|2015-07-01 17:28:14|12272500|2|28...</td>\n",
       "    </tr>\n",
       "    <tr>\n",
       "      <th>4</th>\n",
       "      <td>1|2015-07-03|2015-07-03 18:08:59|10806820|2|22...</td>\n",
       "    </tr>\n",
       "  </tbody>\n",
       "</table>\n",
       "</div>"
      ],
      "text/plain": [
       "  1|2015-07-02|2015-07-02 13:08:13|1524480|9|1222|415|10883|15084\n",
       "0  3|2015-07-02|2015-07-02 07:33:58|1756270|2|109...             \n",
       "1  1|2015-07-02|2015-07-02 16:42:38|10560630|2|14...             \n",
       "2  1|2015-07-01|2015-07-01 11:07:08|11812440|2|28...             \n",
       "3  1|2015-07-01|2015-07-01 17:28:14|12272500|2|28...             \n",
       "4  1|2015-07-03|2015-07-03 18:08:59|10806820|2|22...             "
      ]
     },
     "execution_count": 7,
     "metadata": {},
     "output_type": "execute_result"
    }
   ],
   "source": [
    "%%time\n",
    "df.head()"
   ]
  },
  {
   "cell_type": "code",
   "execution_count": 6,
   "metadata": {},
   "outputs": [
    {
     "name": "stdout",
     "output_type": "stream",
     "text": [
      "CPU times: user 0 ns, sys: 0 ns, total: 0 ns\n",
      "Wall time: 19.6 µs\n"
     ]
    },
    {
     "data": {
      "text/plain": [
       "368266"
      ]
     },
     "execution_count": 6,
     "metadata": {},
     "output_type": "execute_result"
    }
   ],
   "source": [
    "%%time\n",
    "len(df) #368226"
   ]
  },
  {
   "cell_type": "code",
   "execution_count": 9,
   "metadata": {},
   "outputs": [
    {
     "name": "stdout",
     "output_type": "stream",
     "text": [
      "CPU times: user 76 ms, sys: 12 ms, total: 88 ms\n",
      "Wall time: 4.99 s\n"
     ]
    }
   ],
   "source": [
    "%%time\n",
    "# tests reading single parquet file to dask dataframe \n",
    "df=dd.read_parquet('s3://datathon-2018/parquet/taps/2015_week27.parquet') # 5 seconds per file, so if reading\n"
   ]
  },
  {
   "cell_type": "code",
   "execution_count": 14,
   "metadata": {},
   "outputs": [
    {
     "data": {
      "text/html": [
       "<div>\n",
       "<style scoped>\n",
       "    .dataframe tbody tr th:only-of-type {\n",
       "        vertical-align: middle;\n",
       "    }\n",
       "\n",
       "    .dataframe tbody tr th {\n",
       "        vertical-align: top;\n",
       "    }\n",
       "\n",
       "    .dataframe thead th {\n",
       "        text-align: right;\n",
       "    }\n",
       "</style>\n",
       "<table border=\"1\" class=\"dataframe\">\n",
       "  <thead>\n",
       "    <tr style=\"text-align: right;\">\n",
       "      <th></th>\n",
       "      <th>index</th>\n",
       "      <th>mode</th>\n",
       "      <th>business_date</th>\n",
       "      <th>datetime</th>\n",
       "      <th>card_id</th>\n",
       "      <th>card_type</th>\n",
       "      <th>vehicle_id</th>\n",
       "      <th>parent_route</th>\n",
       "      <th>route_id</th>\n",
       "      <th>stop_id</th>\n",
       "      <th>tap</th>\n",
       "    </tr>\n",
       "  </thead>\n",
       "  <tbody>\n",
       "    <tr>\n",
       "      <th>0</th>\n",
       "      <td>0</td>\n",
       "      <td>1</td>\n",
       "      <td>2015-07-02</td>\n",
       "      <td>2015-07-02 13:08:13</td>\n",
       "      <td>1524480</td>\n",
       "      <td>9</td>\n",
       "      <td>1222</td>\n",
       "      <td>415</td>\n",
       "      <td>10883</td>\n",
       "      <td>15084</td>\n",
       "      <td>on</td>\n",
       "    </tr>\n",
       "    <tr>\n",
       "      <th>1</th>\n",
       "      <td>1</td>\n",
       "      <td>3</td>\n",
       "      <td>2015-07-02</td>\n",
       "      <td>2015-07-02 07:33:58</td>\n",
       "      <td>1756270</td>\n",
       "      <td>2</td>\n",
       "      <td>1091</td>\n",
       "      <td>24</td>\n",
       "      <td>15296</td>\n",
       "      <td>18566</td>\n",
       "      <td>on</td>\n",
       "    </tr>\n",
       "    <tr>\n",
       "      <th>2</th>\n",
       "      <td>2</td>\n",
       "      <td>1</td>\n",
       "      <td>2015-07-02</td>\n",
       "      <td>2015-07-02 16:42:38</td>\n",
       "      <td>10560630</td>\n",
       "      <td>2</td>\n",
       "      <td>1469</td>\n",
       "      <td>862</td>\n",
       "      <td>10227</td>\n",
       "      <td>19824</td>\n",
       "      <td>on</td>\n",
       "    </tr>\n",
       "    <tr>\n",
       "      <th>3</th>\n",
       "      <td>3</td>\n",
       "      <td>1</td>\n",
       "      <td>2015-07-01</td>\n",
       "      <td>2015-07-01 11:07:08</td>\n",
       "      <td>11812440</td>\n",
       "      <td>2</td>\n",
       "      <td>2886</td>\n",
       "      <td>458</td>\n",
       "      <td>8591</td>\n",
       "      <td>21184</td>\n",
       "      <td>on</td>\n",
       "    </tr>\n",
       "    <tr>\n",
       "      <th>4</th>\n",
       "      <td>4</td>\n",
       "      <td>1</td>\n",
       "      <td>2015-07-01</td>\n",
       "      <td>2015-07-01 17:28:14</td>\n",
       "      <td>12272500</td>\n",
       "      <td>2</td>\n",
       "      <td>2853</td>\n",
       "      <td>670</td>\n",
       "      <td>16447</td>\n",
       "      <td>21296</td>\n",
       "      <td>on</td>\n",
       "    </tr>\n",
       "  </tbody>\n",
       "</table>\n",
       "</div>"
      ],
      "text/plain": [
       "   index  mode business_date             datetime   card_id  card_type  \\\n",
       "0      0     1    2015-07-02  2015-07-02 13:08:13   1524480          9   \n",
       "1      1     3    2015-07-02  2015-07-02 07:33:58   1756270          2   \n",
       "2      2     1    2015-07-02  2015-07-02 16:42:38  10560630          2   \n",
       "3      3     1    2015-07-01  2015-07-01 11:07:08  11812440          2   \n",
       "4      4     1    2015-07-01  2015-07-01 17:28:14  12272500          2   \n",
       "\n",
       "   vehicle_id parent_route  route_id  stop_id tap  \n",
       "0        1222          415     10883    15084  on  \n",
       "1        1091           24     15296    18566  on  \n",
       "2        1469          862     10227    19824  on  \n",
       "3        2886          458      8591    21184  on  \n",
       "4        2853          670     16447    21296  on  "
      ]
     },
     "execution_count": 14,
     "metadata": {},
     "output_type": "execute_result"
    }
   ],
   "source": [
    "df.head()"
   ]
  },
  {
   "cell_type": "code",
   "execution_count": 10,
   "metadata": {},
   "outputs": [
    {
     "name": "stdout",
     "output_type": "stream",
     "text": [
      "CPU times: user 872 ms, sys: 408 ms, total: 1.28 s\n",
      "Wall time: 31.6 s\n"
     ]
    },
    {
     "data": {
      "text/plain": [
       "1287268"
      ]
     },
     "execution_count": 10,
     "metadata": {},
     "output_type": "execute_result"
    }
   ],
   "source": [
    "%%time\n",
    "len(df) #1,287,268   # 30 seconds to get the length"
   ]
  },
  {
   "cell_type": "code",
   "execution_count": 16,
   "metadata": {},
   "outputs": [
    {
     "name": "stdout",
     "output_type": "stream",
     "text": [
      "CPU times: user 820 ms, sys: 524 ms, total: 1.34 s\n",
      "Wall time: 16.6 s\n"
     ]
    },
    {
     "data": {
      "text/plain": [
       "1287268"
      ]
     },
     "execution_count": 16,
     "metadata": {},
     "output_type": "execute_result"
    }
   ],
   "source": [
    "%%time\n",
    "df['index'].count().compute() #16s (faster)\n"
   ]
  },
  {
   "cell_type": "code",
   "execution_count": 20,
   "metadata": {},
   "outputs": [
    {
     "name": "stdout",
     "output_type": "stream",
     "text": [
      "CPU times: user 240 ms, sys: 4 ms, total: 244 ms\n",
      "Wall time: 14.9 s\n"
     ]
    }
   ],
   "source": [
    "%%time\n",
    "# test reading about 10 parquet files in to dask dataframe\n",
    "df=dd.read_parquet('s3://datathon-2018/parquet/taps/2015_week3*.parquet') # 15 seconds - around 10 files\n",
    "#len(df) # 5,666,495\n"
   ]
  },
  {
   "cell_type": "code",
   "execution_count": 46,
   "metadata": {},
   "outputs": [],
   "source": [
    "#%%time\n",
    "#df['index'].count().compute()  # 2min 29s "
   ]
  },
  {
   "cell_type": "code",
   "execution_count": 23,
   "metadata": {},
   "outputs": [
    {
     "name": "stdout",
     "output_type": "stream",
     "text": [
      "CPU times: user 1min 3s, sys: 10.5 s, total: 1min 14s\n",
      "Wall time: 3min 33s\n"
     ]
    }
   ],
   "source": [
    "%%time\n",
    "df=df.set_index('datetime') # this might take some time..  # 3min 33s"
   ]
  },
  {
   "cell_type": "code",
   "execution_count": 24,
   "metadata": {},
   "outputs": [
    {
     "name": "stdout",
     "output_type": "stream",
     "text": [
      "CPU times: user 1min 39s, sys: 12.6 s, total: 1min 51s\n",
      "Wall time: 4min 49s\n"
     ]
    },
    {
     "data": {
      "text/plain": [
       "24522328"
      ]
     },
     "execution_count": 24,
     "metadata": {},
     "output_type": "execute_result"
    }
   ],
   "source": [
    "%%time\n",
    "df['index'].count().compute() # might be faster now that we have indexed it? nope 4min49s"
   ]
  },
  {
   "cell_type": "code",
   "execution_count": 37,
   "metadata": {},
   "outputs": [
    {
     "name": "stdout",
     "output_type": "stream",
     "text": [
      "CPU times: user 2.94 s, sys: 196 ms, total: 3.14 s\n",
      "Wall time: 4min 5s\n"
     ]
    }
   ],
   "source": [
    "%%time\n",
    "# test reading in all files to dask array\n",
    "\n",
    "df=dd.read_parquet('s3://datathon-2018/parquet/taps/*.parquet') #4 min 10s\n"
   ]
  },
  {
   "cell_type": "code",
   "execution_count": 38,
   "metadata": {},
   "outputs": [
    {
     "name": "stdout",
     "output_type": "stream",
     "text": [
      "CPU times: user 788 ms, sys: 452 ms, total: 1.24 s\n",
      "Wall time: 16.7 s\n"
     ]
    },
    {
     "data": {
      "text/html": [
       "<div>\n",
       "<style scoped>\n",
       "    .dataframe tbody tr th:only-of-type {\n",
       "        vertical-align: middle;\n",
       "    }\n",
       "\n",
       "    .dataframe tbody tr th {\n",
       "        vertical-align: top;\n",
       "    }\n",
       "\n",
       "    .dataframe thead th {\n",
       "        text-align: right;\n",
       "    }\n",
       "</style>\n",
       "<table border=\"1\" class=\"dataframe\">\n",
       "  <thead>\n",
       "    <tr style=\"text-align: right;\">\n",
       "      <th></th>\n",
       "      <th>index</th>\n",
       "      <th>mode</th>\n",
       "      <th>business_date</th>\n",
       "      <th>datetime</th>\n",
       "      <th>card_id</th>\n",
       "      <th>card_type</th>\n",
       "      <th>vehicle_id</th>\n",
       "      <th>parent_route</th>\n",
       "      <th>route_id</th>\n",
       "      <th>stop_id</th>\n",
       "      <th>tap</th>\n",
       "    </tr>\n",
       "  </thead>\n",
       "  <tbody>\n",
       "    <tr>\n",
       "      <th>0</th>\n",
       "      <td>0</td>\n",
       "      <td>1</td>\n",
       "      <td>2015-07-02</td>\n",
       "      <td>2015-07-02 13:08:13</td>\n",
       "      <td>1524480</td>\n",
       "      <td>9</td>\n",
       "      <td>1222</td>\n",
       "      <td>415</td>\n",
       "      <td>10883</td>\n",
       "      <td>15084</td>\n",
       "      <td>on</td>\n",
       "    </tr>\n",
       "    <tr>\n",
       "      <th>1</th>\n",
       "      <td>1</td>\n",
       "      <td>3</td>\n",
       "      <td>2015-07-02</td>\n",
       "      <td>2015-07-02 07:33:58</td>\n",
       "      <td>1756270</td>\n",
       "      <td>2</td>\n",
       "      <td>1091</td>\n",
       "      <td>24</td>\n",
       "      <td>15296</td>\n",
       "      <td>18566</td>\n",
       "      <td>on</td>\n",
       "    </tr>\n",
       "    <tr>\n",
       "      <th>2</th>\n",
       "      <td>2</td>\n",
       "      <td>1</td>\n",
       "      <td>2015-07-02</td>\n",
       "      <td>2015-07-02 16:42:38</td>\n",
       "      <td>10560630</td>\n",
       "      <td>2</td>\n",
       "      <td>1469</td>\n",
       "      <td>862</td>\n",
       "      <td>10227</td>\n",
       "      <td>19824</td>\n",
       "      <td>on</td>\n",
       "    </tr>\n",
       "    <tr>\n",
       "      <th>3</th>\n",
       "      <td>3</td>\n",
       "      <td>1</td>\n",
       "      <td>2015-07-01</td>\n",
       "      <td>2015-07-01 11:07:08</td>\n",
       "      <td>11812440</td>\n",
       "      <td>2</td>\n",
       "      <td>2886</td>\n",
       "      <td>458</td>\n",
       "      <td>8591</td>\n",
       "      <td>21184</td>\n",
       "      <td>on</td>\n",
       "    </tr>\n",
       "    <tr>\n",
       "      <th>4</th>\n",
       "      <td>4</td>\n",
       "      <td>1</td>\n",
       "      <td>2015-07-01</td>\n",
       "      <td>2015-07-01 17:28:14</td>\n",
       "      <td>12272500</td>\n",
       "      <td>2</td>\n",
       "      <td>2853</td>\n",
       "      <td>670</td>\n",
       "      <td>16447</td>\n",
       "      <td>21296</td>\n",
       "      <td>on</td>\n",
       "    </tr>\n",
       "  </tbody>\n",
       "</table>\n",
       "</div>"
      ],
      "text/plain": [
       "   index  mode business_date             datetime   card_id  card_type  \\\n",
       "0      0     1    2015-07-02  2015-07-02 13:08:13   1524480          9   \n",
       "1      1     3    2015-07-02  2015-07-02 07:33:58   1756270          2   \n",
       "2      2     1    2015-07-02  2015-07-02 16:42:38  10560630          2   \n",
       "3      3     1    2015-07-01  2015-07-01 11:07:08  11812440          2   \n",
       "4      4     1    2015-07-01  2015-07-01 17:28:14  12272500          2   \n",
       "\n",
       "   vehicle_id parent_route  route_id  stop_id tap  \n",
       "0        1222          415     10883    15084  on  \n",
       "1        1091           24     15296    18566  on  \n",
       "2        1469          862     10227    19824  on  \n",
       "3        2886          458      8591    21184  on  \n",
       "4        2853          670     16447    21296  on  "
      ]
     },
     "execution_count": 38,
     "metadata": {},
     "output_type": "execute_result"
    }
   ],
   "source": [
    "%%time\n",
    "df.head() #8s"
   ]
  },
  {
   "cell_type": "code",
   "execution_count": 43,
   "metadata": {},
   "outputs": [],
   "source": [
    "#%%timeit\n",
    "#len(df) #timedout"
   ]
  },
  {
   "cell_type": "code",
   "execution_count": 45,
   "metadata": {},
   "outputs": [],
   "source": [
    "#%%time\n",
    "#df=df.groupby(df.card_type).size().compute()"
   ]
  },
  {
   "cell_type": "code",
   "execution_count": null,
   "metadata": {
    "collapsed": true
   },
   "outputs": [],
   "source": [
    "# persist dataframe to cluster \n",
    "df = df.persist()\n",
    "progress(df)"
   ]
  },
  {
   "cell_type": "code",
   "execution_count": null,
   "metadata": {},
   "outputs": [],
   "source": []
  },
  {
   "cell_type": "code",
   "execution_count": null,
   "metadata": {},
   "outputs": [],
   "source": []
  },
  {
   "cell_type": "code",
   "execution_count": null,
   "metadata": {},
   "outputs": [],
   "source": []
  }
 ],
 "metadata": {
  "kernelspec": {
   "display_name": "Python 3",
   "language": "python",
   "name": "python3"
  },
  "language_info": {
   "codemirror_mode": {
    "name": "ipython",
    "version": 3
   },
   "file_extension": ".py",
   "mimetype": "text/x-python",
   "name": "python",
   "nbconvert_exporter": "python",
   "pygments_lexer": "ipython3",
   "version": "3.6.5"
  }
 },
 "nbformat": 4,
 "nbformat_minor": 2
}
