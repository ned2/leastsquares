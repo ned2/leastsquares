{
 "cells": [
  {
   "cell_type": "markdown",
   "metadata": {},
   "source": [
    "Import files in s3 to pandas.\n",
    "\n",
    "Assumes conda environment is configured as per venvs/shared/requirements.txt\n",
    "\n",
    "Steps\n",
    "1. Create file list from buckets\n",
    "\n",
    "2. Filter files for tap_on and tap_off files\n",
    "\n",
    "3. Create df_on and df_off as dataframes as concatenation of all tap_on and tap_off files, respectively\n",
    "\n",
    "4. write to dask array \n"
   ]
  },
  {
   "cell_type": "code",
   "execution_count": null,
   "metadata": {},
   "outputs": [],
   "source": [
    "#Configure environment if needed\n",
    "#mkdir datathon\n",
    "#cd datathon\n",
    "#git clone https://github.com/ned2/leastsquares.git\n",
    "\n",
    "#!pip install -r /venvs/shared/requirements.txt\n",
    "\n"
   ]
  },
  {
   "cell_type": "code",
   "execution_count": 3,
   "metadata": {},
   "outputs": [],
   "source": [
    "import pandas as pd\n",
    "import boto3\n",
    "import io\n",
    "import gzip\n"
   ]
  },
  {
   "cell_type": "code",
   "execution_count": 4,
   "metadata": {},
   "outputs": [],
   "source": [
    "bucket_name='datathon-2018'\n"
   ]
  },
  {
   "cell_type": "code",
   "execution_count": 5,
   "metadata": {},
   "outputs": [],
   "source": [
    "#create file list you wish to read from\n",
    "s3 = boto3.resource('s3')\n",
    "bucket=s3.Bucket(bucket_name)\n",
    "file_list_on=[]\n",
    "#!for obj in bucket.objects.filter(Prefix='raw/MelbDatathon2018/Samp_0/'):\n",
    "#    if(obj.key.endswith(\".txt.gz\")):\n",
    "#        file_list.append(obj.key)\n",
    "#                               \n",
    "\n",
    "file_list=[obj.key for obj in bucket.objects.filter(Prefix='raw/MelbDatathon2018/Samp_0/') if obj.key.endswith(\".txt.gz\")]\n"
   ]
  },
  {
   "cell_type": "code",
   "execution_count": 8,
   "metadata": {},
   "outputs": [],
   "source": [
    "# tap off\n",
    "import re\n",
    "tap_off_files = []\n",
    "for f in file_list:\n",
    "    if sum([bool(re.search(pattern='ScanOffTransaction', string=f))]):\n",
    "        tap_off_files.append(f)\n",
    "\n",
    "        "
   ]
  },
  {
   "cell_type": "code",
   "execution_count": 9,
   "metadata": {},
   "outputs": [],
   "source": [
    "# tap on        \n",
    "tap_on_files = []\n",
    "for f in file_list:\n",
    "    if sum([bool(re.search(pattern='ScanOnTransaction', string=f))]):\n",
    "        tap_on_files.append(f)\n",
    "        "
   ]
  },
  {
   "cell_type": "code",
   "execution_count": null,
   "metadata": {},
   "outputs": [],
   "source": [
    "%%time\n",
    "bucket_name='s3://datathon-2018/'\n",
    "df_on = pd.concat([pd.read_csv(bucket_name+f, sep='|', compression='gzip', header=None) for f in tap_on_files])"
   ]
  },
  {
   "cell_type": "code",
   "execution_count": null,
   "metadata": {},
   "outputs": [],
   "source": [
    "%%time\n",
    "df_off = pd.concat([pd.read_csv(bucket_name+f, sep='|', compression='gzip', header=None) for f in tap_off_files])"
   ]
  },
  {
   "cell_type": "code",
   "execution_count": null,
   "metadata": {},
   "outputs": [],
   "source": [
    "#to dask dataframe\n",
    "from dask import dataframe as dd\n",
    "sd_on = dd.from_pandas(df_on, npartitions=3)\n",
    "sd_off = dd.from_pandas(df_off, npartitions=3)"
   ]
  },
  {
   "cell_type": "code",
   "execution_count": null,
   "metadata": {},
   "outputs": [],
   "source": [
    "# to parquety\n",
    "df_on.to_parquet('df_on.parquet.gzip', compression='gzip')\n",
    "df_off.to_parquet('df_off.parquet.gzip', compression='gzip')\n"
   ]
  },
  {
   "cell_type": "code",
   "execution_count": null,
   "metadata": {},
   "outputs": [],
   "source": [
    "\n",
    "# s3FS not working\n",
    "#fs = s3fs.S3FileSystem(anon=True)\n",
    "#fs.ls('datathon-ilana1')\n",
    "    \n",
    "    "
   ]
  },
  {
   "cell_type": "code",
   "execution_count": null,
   "metadata": {},
   "outputs": [],
   "source": [
    "#s3_client=boto3.client('s3')\n",
    "#obj = s3_client.get_object(Bucket='datathon-2018', Key=key)\n",
    "#gz = gzip.GzipFile(fileobj=obj['Body'])\n"
   ]
  },
  {
   "cell_type": "code",
   "execution_count": null,
   "metadata": {},
   "outputs": [],
   "source": []
  },
  {
   "cell_type": "code",
   "execution_count": null,
   "metadata": {},
   "outputs": [],
   "source": []
  },
  {
   "cell_type": "code",
   "execution_count": null,
   "metadata": {},
   "outputs": [],
   "source": []
  },
  {
   "cell_type": "code",
   "execution_count": null,
   "metadata": {},
   "outputs": [],
   "source": []
  },
  {
   "cell_type": "code",
   "execution_count": null,
   "metadata": {},
   "outputs": [],
   "source": []
  },
  {
   "cell_type": "code",
   "execution_count": null,
   "metadata": {},
   "outputs": [],
   "source": [
    "\n"
   ]
  },
  {
   "cell_type": "code",
   "execution_count": null,
   "metadata": {},
   "outputs": [],
   "source": []
  },
  {
   "cell_type": "code",
   "execution_count": null,
   "metadata": {},
   "outputs": [],
   "source": [
    "\n"
   ]
  },
  {
   "cell_type": "code",
   "execution_count": null,
   "metadata": {},
   "outputs": [],
   "source": []
  },
  {
   "cell_type": "code",
   "execution_count": null,
   "metadata": {},
   "outputs": [],
   "source": []
  },
  {
   "cell_type": "code",
   "execution_count": null,
   "metadata": {},
   "outputs": [],
   "source": [
    "\n"
   ]
  },
  {
   "cell_type": "code",
   "execution_count": null,
   "metadata": {},
   "outputs": [],
   "source": []
  },
  {
   "cell_type": "code",
   "execution_count": null,
   "metadata": {},
   "outputs": [],
   "source": []
  },
  {
   "cell_type": "code",
   "execution_count": null,
   "metadata": {},
   "outputs": [],
   "source": []
  },
  {
   "cell_type": "code",
   "execution_count": null,
   "metadata": {},
   "outputs": [],
   "source": []
  }
 ],
 "metadata": {
  "kernelspec": {
   "display_name": "conda_python3",
   "language": "python",
   "name": "conda_python3"
  },
  "language_info": {
   "codemirror_mode": {
    "name": "ipython",
    "version": 3
   },
   "file_extension": ".py",
   "mimetype": "text/x-python",
   "name": "python",
   "nbconvert_exporter": "python",
   "pygments_lexer": "ipython3",
   "version": "3.6.4"
  }
 },
 "nbformat": 4,
 "nbformat_minor": 2
}
