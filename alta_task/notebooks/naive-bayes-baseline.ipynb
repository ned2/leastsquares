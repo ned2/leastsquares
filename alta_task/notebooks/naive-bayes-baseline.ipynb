{
 "cells": [
  {
   "cell_type": "code",
   "execution_count": 1,
   "metadata": {},
   "outputs": [],
   "source": [
    "%matplotlib inline\n",
    "\n",
    "import matplotlib\n",
    "import numpy as np\n",
    "import matplotlib.pyplot as plt"
   ]
  },
  {
   "cell_type": "code",
   "execution_count": 2,
   "metadata": {
    "_cell_guid": "b1076dfc-b9ad-4769-8c92-a6c4dae69d19",
    "_uuid": "8f2839f25d086af736a60e9eeb907d3b93b6e0e5"
   },
   "outputs": [
    {
     "name": "stdout",
     "output_type": "stream",
     "text": [
      "['alta2018testdata', 'alta2018patents', 'alta2018traindata']\n"
     ]
    }
   ],
   "source": [
    "# This Python 3 environment comes with many helpful analytics libraries installed\n",
    "# It is defined by the kaggle/python docker image: https://github.com/kaggle/docker-python\n",
    "# For example, here's several helpful packages to load in \n",
    "\n",
    "import numpy as np # linear algebra\n",
    "import pandas as pd # data processing, CSV file I/O (e.g. pd.read_csv)\n",
    "\n",
    "# Input data files are available in the \"../input/\" directory.\n",
    "# For example, running this (by clicking run or pressing Shift+Enter) will list the files in the input directory\n",
    "\n",
    "import os\n",
    "print(os.listdir(\"../input\"))\n",
    "\n",
    "# Any results you write to the current directory are saved as output."
   ]
  },
  {
   "cell_type": "code",
   "execution_count": 4,
   "metadata": {
    "_uuid": "7dd35798575161958278653d7325b3a6b3dc094e"
   },
   "outputs": [],
   "source": [
    "#print(os.listdir(\"../input/alta-2018-challenge\"))"
   ]
  },
  {
   "cell_type": "code",
   "execution_count": 5,
   "metadata": {
    "_cell_guid": "79c7e3d0-c299-4dcb-8224-4455121ee9b0",
    "_uuid": "d629ff2d2480ee46fbb7e2d37f6b5fab8052498a"
   },
   "outputs": [],
   "source": [
    "train = pd.read_csv('../input/alta2018traindata/train_data.csv')"
   ]
  },
  {
   "cell_type": "code",
   "execution_count": 6,
   "metadata": {
    "_uuid": "c09ea598097f11221444d0277d38ecf0ed3af608"
   },
   "outputs": [
    {
     "data": {
      "text/html": [
       "<div>\n",
       "<style scoped>\n",
       "    .dataframe tbody tr th:only-of-type {\n",
       "        vertical-align: middle;\n",
       "    }\n",
       "\n",
       "    .dataframe tbody tr th {\n",
       "        vertical-align: top;\n",
       "    }\n",
       "\n",
       "    .dataframe thead th {\n",
       "        text-align: right;\n",
       "    }\n",
       "</style>\n",
       "<table border=\"1\" class=\"dataframe\">\n",
       "  <thead>\n",
       "    <tr style=\"text-align: right;\">\n",
       "      <th></th>\n",
       "      <th>id</th>\n",
       "      <th>first_ipc_mark_section</th>\n",
       "    </tr>\n",
       "  </thead>\n",
       "  <tbody>\n",
       "    <tr>\n",
       "      <th>0</th>\n",
       "      <td>0</td>\n",
       "      <td>A</td>\n",
       "    </tr>\n",
       "    <tr>\n",
       "      <th>1</th>\n",
       "      <td>1</td>\n",
       "      <td>G</td>\n",
       "    </tr>\n",
       "    <tr>\n",
       "      <th>2</th>\n",
       "      <td>2</td>\n",
       "      <td>A</td>\n",
       "    </tr>\n",
       "    <tr>\n",
       "      <th>3</th>\n",
       "      <td>3</td>\n",
       "      <td>A</td>\n",
       "    </tr>\n",
       "    <tr>\n",
       "      <th>4</th>\n",
       "      <td>4</td>\n",
       "      <td>D</td>\n",
       "    </tr>\n",
       "  </tbody>\n",
       "</table>\n",
       "</div>"
      ],
      "text/plain": [
       "   id first_ipc_mark_section\n",
       "0   0                      A\n",
       "1   1                      G\n",
       "2   2                      A\n",
       "3   3                      A\n",
       "4   4                      D"
      ]
     },
     "execution_count": 6,
     "metadata": {},
     "output_type": "execute_result"
    }
   ],
   "source": [
    "train.head()"
   ]
  },
  {
   "cell_type": "code",
   "execution_count": 7,
   "metadata": {
    "_uuid": "32a27e58f99b19a313b56288012dc72a6291f1a4"
   },
   "outputs": [
    {
     "data": {
      "text/plain": [
       "<matplotlib.axes._subplots.AxesSubplot at 0x7f1f0d512c88>"
      ]
     },
     "execution_count": 7,
     "metadata": {},
     "output_type": "execute_result"
    },
    {
     "data": {
      "image/png": "[encoded data removed]",
      "text/plain": [
       "<Figure size 432x288 with 1 Axes>"
      ]
     },
     "metadata": {
      "needs_background": "light"
     },
     "output_type": "display_data"
    }
   ],
   "source": [
    "train['first_ipc_mark_section'].value_counts().plot.bar()"
   ]
  },
  {
   "cell_type": "code",
   "execution_count": 8,
   "metadata": {
    "_uuid": "27b49a1c3e82bdccf202b80bd77a2a6945b888e0"
   },
   "outputs": [
    {
     "data": {
      "text/plain": [
       "A    1303\n",
       "G     781\n",
       "C     637\n",
       "B     442\n",
       "H     330\n",
       "E     287\n",
       "F     178\n",
       "D      14\n",
       "Name: first_ipc_mark_section, dtype: int64"
      ]
     },
     "execution_count": 8,
     "metadata": {},
     "output_type": "execute_result"
    }
   ],
   "source": [
    "train['first_ipc_mark_section'].value_counts()"
   ]
  },
  {
   "cell_type": "markdown",
   "metadata": {
    "_uuid": "db5b1e57016182948cbcef08163a4d41b790a0da"
   },
   "source": [
    "We can see that there is high imbalance in the data. We may need to do something about this, but let's create a baseline that ignores  the imbalance."
   ]
  },
  {
   "cell_type": "markdown",
   "metadata": {
    "_uuid": "e7bb5df8b74e78fdff619e6fd3565575d533933f"
   },
   "source": [
    "# Baselines\n",
    "\n",
    "The first baseline will simply output the most common class: A. The following code uses sklearn as a framework to build the baseline and evaluate it using 5-fold cross-validation and F1-microaveraged evaluation metric."
   ]
  },
  {
   "cell_type": "code",
   "execution_count": 9,
   "metadata": {
    "_uuid": "9829c889bbdce7994b48742f4360726b2908777b"
   },
   "outputs": [
    {
     "data": {
      "text/plain": [
       "0.328048351235355"
      ]
     },
     "execution_count": 9,
     "metadata": {},
     "output_type": "execute_result"
    }
   ],
   "source": [
    "from sklearn.dummy import DummyClassifier\n",
    "from sklearn.model_selection import cross_val_score\n",
    "first_baseline = DummyClassifier(strategy=\"most_frequent\")\n",
    "first_baseline_scores = cross_val_score(first_baseline, train[['id']], train['first_ipc_mark_section'], cv=5, scoring='f1_micro')\n",
    "first_baseline_scores.mean()"
   ]
  },
  {
   "cell_type": "markdown",
   "metadata": {
    "_uuid": "8c22a6057e88b3461bdd440efe9370a6e37fedf3"
   },
   "source": [
    "The second baseline uses naive Bayes classification with tf.idf of the words as the features."
   ]
  },
  {
   "cell_type": "code",
   "execution_count": 10,
   "metadata": {
    "_uuid": "1ddf4437b8bf410616b78e63429feee339dbb90c"
   },
   "outputs": [
    {
     "data": {
      "text/html": [
       "<div>\n",
       "<style scoped>\n",
       "    .dataframe tbody tr th:only-of-type {\n",
       "        vertical-align: middle;\n",
       "    }\n",
       "\n",
       "    .dataframe tbody tr th {\n",
       "        vertical-align: top;\n",
       "    }\n",
       "\n",
       "    .dataframe thead th {\n",
       "        text-align: right;\n",
       "    }\n",
       "</style>\n",
       "<table border=\"1\" class=\"dataframe\">\n",
       "  <thead>\n",
       "    <tr style=\"text-align: right;\">\n",
       "      <th></th>\n",
       "      <th>id</th>\n",
       "      <th>first_ipc_mark_section</th>\n",
       "      <th>filename</th>\n",
       "    </tr>\n",
       "  </thead>\n",
       "  <tbody>\n",
       "    <tr>\n",
       "      <th>0</th>\n",
       "      <td>0</td>\n",
       "      <td>A</td>\n",
       "      <td>../input/alta2018patents/patents/patents/0.txt</td>\n",
       "    </tr>\n",
       "    <tr>\n",
       "      <th>1</th>\n",
       "      <td>1</td>\n",
       "      <td>G</td>\n",
       "      <td>../input/alta2018patents/patents/patents/1.txt</td>\n",
       "    </tr>\n",
       "    <tr>\n",
       "      <th>2</th>\n",
       "      <td>2</td>\n",
       "      <td>A</td>\n",
       "      <td>../input/alta2018patents/patents/patents/2.txt</td>\n",
       "    </tr>\n",
       "    <tr>\n",
       "      <th>3</th>\n",
       "      <td>3</td>\n",
       "      <td>A</td>\n",
       "      <td>../input/alta2018patents/patents/patents/3.txt</td>\n",
       "    </tr>\n",
       "    <tr>\n",
       "      <th>4</th>\n",
       "      <td>4</td>\n",
       "      <td>D</td>\n",
       "      <td>../input/alta2018patents/patents/patents/4.txt</td>\n",
       "    </tr>\n",
       "  </tbody>\n",
       "</table>\n",
       "</div>"
      ],
      "text/plain": [
       "   id first_ipc_mark_section                                        filename\n",
       "0   0                      A  ../input/alta2018patents/patents/patents/0.txt\n",
       "1   1                      G  ../input/alta2018patents/patents/patents/1.txt\n",
       "2   2                      A  ../input/alta2018patents/patents/patents/2.txt\n",
       "3   3                      A  ../input/alta2018patents/patents/patents/3.txt\n",
       "4   4                      D  ../input/alta2018patents/patents/patents/4.txt"
      ]
     },
     "execution_count": 10,
     "metadata": {},
     "output_type": "execute_result"
    }
   ],
   "source": [
    "train['filename'] = ['../input/alta2018patents/patents/patents/'] + train['id'].astype(str) + ['.txt']\n",
    "train.head()"
   ]
  },
  {
   "cell_type": "code",
   "execution_count": 11,
   "metadata": {
    "_uuid": "7089816d63244bd1112911bc38429d84f1b7f091"
   },
   "outputs": [],
   "source": [
    "from sklearn.pipeline import Pipeline\n",
    "from sklearn.feature_extraction.text import TfidfVectorizer\n",
    "from sklearn import naive_bayes\n",
    "tfidf = TfidfVectorizer(input='filename', encoding='iso8859-1')\n",
    "nb = naive_bayes.MultinomialNB()\n",
    "second_baseline = Pipeline(steps=[('tfidf', tfidf), ('nb', nb)])\n"
   ]
  },
  {
   "cell_type": "code",
   "execution_count": null,
   "metadata": {},
   "outputs": [],
   "source": []
  },
  {
   "cell_type": "code",
   "execution_count": 12,
   "metadata": {
    "_uuid": "358ee36df0b9923e04a3e96b2d7b8318c735a26c"
   },
   "outputs": [
    {
     "data": {
      "text/plain": [
       "0.4332885351122709"
      ]
     },
     "execution_count": 12,
     "metadata": {},
     "output_type": "execute_result"
    }
   ],
   "source": [
    "second_baseline_scores = cross_val_score(second_baseline, train['filename'], train['first_ipc_mark_section'], cv=5, scoring='f1_micro')\n",
    "second_baseline_scores.mean()"
   ]
  },
  {
   "cell_type": "markdown",
   "metadata": {
    "_uuid": "64934c6fa0bba4e36dfac1559802aeadcc04d1a0"
   },
   "source": [
    "The following code uses the entire data set for training the system using naive Bayes and create a run to be submitted to the competition."
   ]
  },
  {
   "cell_type": "code",
   "execution_count": null,
   "metadata": {
    "_uuid": "4afea021e22873d661f194ed0012b5c745381567"
   },
   "outputs": [],
   "source": [
    "second_baseline.fit(train['filename'], train['first_ipc_mark_section'])"
   ]
  },
  {
   "cell_type": "code",
   "execution_count": null,
   "metadata": {
    "_uuid": "b41f0a7df21cade5d65f8af4a1e822f3b78358d3"
   },
   "outputs": [],
   "source": [
    "test = pd.read_csv('../input/alta2018testdata/test_data.csv')\n",
    "test.head()"
   ]
  },
  {
   "cell_type": "code",
   "execution_count": null,
   "metadata": {
    "_uuid": "162a81c27de3d8bb22b647a9632cd3ed92f18f13"
   },
   "outputs": [],
   "source": [
    "test['filename'] = ['../input/alta2018patents/patents/patents/'] + test['id'].astype(str) + ['.txt']"
   ]
  },
  {
   "cell_type": "code",
   "execution_count": null,
   "metadata": {
    "_uuid": "1332c738b9663da57d462e0ae4053d52f3e19d52"
   },
   "outputs": [],
   "source": [
    "test['first_ipc_mark_section'] = second_baseline.predict(test['filename'])\n",
    "test.head()"
   ]
  },
  {
   "cell_type": "code",
   "execution_count": null,
   "metadata": {
    "_uuid": "3f49cd4f0d79cb9c163d5dc2c29c893a909a5b77"
   },
   "outputs": [],
   "source": [
    "test['first_ipc_mark_section'].value_counts().plot.bar()"
   ]
  },
  {
   "cell_type": "markdown",
   "metadata": {
    "_uuid": "042f88af53e7a595a99acea43f374233861c0086"
   },
   "source": [
    "We can see that the labels associated to the test data by the second baseline are only the three most frequent labels in the training data. There is clearly room for improvement. Anyway, the code below creates a CSV file that has been submitted as the Naive Bayes baseline."
   ]
  },
  {
   "cell_type": "code",
   "execution_count": null,
   "metadata": {
    "_uuid": "6086d6bbfa1e168b592e24de7e8f22d1811ae97a"
   },
   "outputs": [],
   "source": [
    "test[['id', 'first_ipc_mark_section']].to_csv('test_results.csv', index=False)"
   ]
  },
  {
   "cell_type": "code",
   "execution_count": null,
   "metadata": {
    "_kg_hide-output": false,
    "_uuid": "30dc2fa314e4aefaf8ca71fd7f0e2df7b819e786",
    "collapsed": true
   },
   "outputs": [],
   "source": []
  }
 ],
 "metadata": {
  "kernelspec": {
   "display_name": "Python 3",
   "language": "python",
   "name": "python3"
  },
  "language_info": {
   "codemirror_mode": {
    "name": "ipython",
    "version": 3
   },
   "file_extension": ".py",
   "mimetype": "text/x-python",
   "name": "python",
   "nbconvert_exporter": "python",
   "pygments_lexer": "ipython3",
   "version": "3.7.0"
  }
 },
 "nbformat": 4,
 "nbformat_minor": 2
}
