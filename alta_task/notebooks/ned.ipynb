{
 "cells": [
  {
   "cell_type": "code",
   "execution_count": 1,
   "metadata": {},
   "outputs": [],
   "source": [
    "%load_ext autoreload\n",
    "%autoreload 2\n",
    "%matplotlib inline\n",
    "\n",
    "import matplotlib\n",
    "import numpy as np\n",
    "import pandas as pd\n",
    "import matplotlib.pyplot as plt\n",
    "import swifter\n",
    "from sklearn.model_selection import cross_val_score\n",
    "from sklearn.pipeline import Pipeline\n",
    "from sklearn.feature_extraction.text import TfidfVectorizer\n",
    "from sklearn.svm import LinearSVC\n",
    "from sklearn.decomposition import TruncatedSVD\n",
    "\n",
    "import utils\n",
    "\n",
    "plt.style.use('fivethirtyeight')"
   ]
  },
  {
   "cell_type": "markdown",
   "metadata": {},
   "source": [
    "Data prep"
   ]
  },
  {
   "cell_type": "code",
   "execution_count": 2,
   "metadata": {},
   "outputs": [],
   "source": [
    "text_dir = '../input/alta2018patents/patents/cleaned_patents/'\n",
    "\n",
    "train = pd.read_csv('../input/alta2018traindata/train_data.csv')\n",
    "train['filename'] = [text_dir] + train['id'].astype(str) + ['.txt']\n",
    "\n",
    "test = pd.read_csv('../input/alta2018testdata/test_data.csv')\n",
    "test['filename'] = [text_dir] + test['id'].astype(str) + ['.txt']\n",
    "\n",
    "\n",
    "train_texts = train['filename']\n",
    "test_texts = test['filename']   \n",
    "train_labels = train['first_ipc_mark_section']"
   ]
  },
  {
   "cell_type": "code",
   "execution_count": 3,
   "metadata": {},
   "outputs": [],
   "source": [
    "tfidf = TfidfVectorizer( \n",
    "    input='filename',\n",
    "    encoding='iso8859-1',\n",
    "    stop_words='english',\n",
    "    strip_accents='unicode',\n",
    "    sublinear_tf=True,\n",
    "    min_df=5,\n",
    "    ngram_range=(1,2)\n",
    ")\n",
    "\n",
    "clf = Pipeline(steps=[\n",
    "    ('tfidf', tfidf), \n",
    "    ('svm', LinearSVC(class_weight='balanced'))\n",
    "])"
   ]
  },
  {
   "cell_type": "code",
   "execution_count": 8,
   "metadata": {},
   "outputs": [
    {
     "data": {
      "text/plain": [
       "0.7341341746429964"
      ]
     },
     "execution_count": 8,
     "metadata": {},
     "output_type": "execute_result"
    }
   ],
   "source": [
    "scores = utils.get_train_scores(clf, train_texts, train_labels)\n",
    "scores.mean()"
   ]
  },
  {
   "cell_type": "markdown",
   "metadata": {},
   "source": [
    "Now let's try with Fasttext word embeedings. We'll represent each document as a naive averaged vector of all the tokens in the document "
   ]
  },
  {
   "cell_type": "code",
   "execution_count": null,
   "metadata": {},
   "outputs": [],
   "source": [
    "embeddings = utils.load_fasttext_vectors('/home/ubuntu/wiki-news-300d-1M-subword.vec')\n",
    "\n",
    "clf_ft = clf = Pipeline(steps=[\n",
    "    ('embeddings', utils.MeanEmbeddingVectorizer(embeddings)), \n",
    "    ('svm', LinearSVC(class_weight='balanced'))\n",
    "])"
   ]
  },
  {
   "cell_type": "markdown",
   "metadata": {},
   "source": [
    "Get scores on training set using cross-fold validation:"
   ]
  },
  {
   "cell_type": "code",
   "execution_count": null,
   "metadata": {},
   "outputs": [
    {
     "name": "stderr",
     "output_type": "stream",
     "text": [
      "/home/ubuntu/.pyenv/versions/3.7.0/envs/alta/lib/python3.7/site-packages/sklearn/externals/joblib/externals/loky/process_executor.py:700: UserWarning: A worker stopped while some jobs were given to the executor. This can be caused by a too short worker timeout or by a memory leak.\n",
      "  \"timeout or by a memory leak.\", UserWarning\n"
     ]
    }
   ],
   "source": [
    "scores = utils.get_train_scores(clf_ft, train_texts, train_labels)\n",
    "scores.mean()"
   ]
  },
  {
   "cell_type": "markdown",
   "metadata": {},
   "source": [
    "Generate a subission:"
   ]
  },
  {
   "cell_type": "code",
   "execution_count": 11,
   "metadata": {},
   "outputs": [
    {
     "data": {
      "text/plain": [
       "<matplotlib.axes._subplots.AxesSubplot at 0x7f6e37913080>"
      ]
     },
     "execution_count": 11,
     "metadata": {},
     "output_type": "execute_result"
    },
    {
     "data": {
      "image/png": "[encoded data removed]",
      "text/plain": [
       "<Figure size 432x288 with 1 Axes>"
      ]
     },
     "metadata": {},
     "output_type": "display_data"
    }
   ],
   "source": [
    "clf.fit(train_texts, train_labels)\n",
    "test['first_ipc_mark_section'] = clf.predict(test_texts)\n",
    "test[['id', 'first_ipc_mark_section']].to_csv('test_results.csv', index=False)\n",
    "test['first_ipc_mark_section'].value_counts().plot.bar()"
   ]
  }
 ],
 "metadata": {
  "kernelspec": {
   "display_name": "Python 3",
   "language": "python",
   "name": "python3"
  },
  "language_info": {
   "codemirror_mode": {
    "name": "ipython",
    "version": 3
   },
   "file_extension": ".py",
   "mimetype": "text/x-python",
   "name": "python",
   "nbconvert_exporter": "python",
   "pygments_lexer": "ipython3",
   "version": "3.7.0"
  }
 },
 "nbformat": 4,
 "nbformat_minor": 2
}
