{
 "cells": [
  {
   "cell_type": "markdown",
   "metadata": {},
   "source": [
    "##### Overview"
   ]
  },
  {
   "cell_type": "markdown",
   "metadata": {},
   "source": [
    "Hi everyone. I've written some code to read in the data and get started. I've added the ability to specify  samp/year/week for those who can't read 6 GB of data into their RAM.\n",
    "Place this notebook file in the MelbDatathon2018 folder."
   ]
  },
  {
   "cell_type": "code",
   "execution_count": 163,
   "metadata": {
    "collapsed": true
   },
   "outputs": [],
   "source": [
    "%matplotlib inline\n",
    "\n",
    "import numpy as np\n",
    "import pandas as pd\n",
    "import matplotlib.pyplot as plt\n",
    "import os\n",
    "import gzip\n",
    "import glob\n",
    "import re\n",
    "\n",
    "pd.set_option('display.max_colwidth', -1)"
   ]
  },
  {
   "cell_type": "markdown",
   "metadata": {},
   "source": [
    "Get the files, specify sample, year, weeks."
   ]
  },
  {
   "cell_type": "code",
   "execution_count": 249,
   "metadata": {},
   "outputs": [
    {
     "name": "stdout",
     "output_type": "stream",
     "text": [
      "                                                                                                              0\n",
      "0  C:\\Users\\ben\\Desktop\\MelbDatathon2018\\Samp_0\\ScanOnTransaction\\2018\\Week2\\QID3532995_20180713_34925_0.txt.gz\n",
      "1  C:\\Users\\ben\\Desktop\\MelbDatathon2018\\Samp_0\\ScanOnTransaction\\2018\\Week3\\QID3533008_20180713_35019_0.txt.gz\n",
      "                                                                                                               0\n",
      "0  C:\\Users\\ben\\Desktop\\MelbDatathon2018\\Samp_0\\ScanOffTransaction\\2018\\Week2\\QID3530175_20180713_12533_0.txt.gz\n",
      "1  C:\\Users\\ben\\Desktop\\MelbDatathon2018\\Samp_0\\ScanOffTransaction\\2018\\Week3\\QID3530192_20180713_12606_0.txt.gz\n"
     ]
    }
   ],
   "source": [
    "# years we care about\n",
    "years = [2018]\n",
    "\n",
    "# weeks we care about\n",
    "weeks = [2, 3]\n",
    "weeks = ['Week'+str(w) for w in weeks]\n",
    "\n",
    "# samples we care about (Samp_0, Samp_1)\n",
    "samps = ['Samp_0']\n",
    "\n",
    "# all files!\n",
    "files = glob.glob(os.getcwd() + '*/*/*/*/*/*.txt.gz', recursive=True)\n",
    "\n",
    "# filter for files we want\n",
    "\n",
    "# tap on\n",
    "tap_on_files = []\n",
    "for f in files:\n",
    "    if sum([bool(re.search(pattern='ScanOnTransaction', string=f))]):\n",
    "        if sum([bool(re.search(pattern=s, string=f)) for s in samps]):\n",
    "            if sum([bool(re.search(pattern='\\\\\\\\'+str(y), string=f)) for y in years]):\n",
    "                if sum([bool(re.search(pattern=w+'\\\\\\\\', string=f)) for w in weeks]):\n",
    "                    tap_on_files.append(f)\n",
    "\n",
    "# tap off\n",
    "tap_off_files = []\n",
    "for f in files:\n",
    "    if sum([bool(re.search(pattern='ScanOffTransaction', string=f))]):\n",
    "        if sum([bool(re.search(pattern=s, string=f)) for s in samps]):\n",
    "            if sum([bool(re.search(pattern='\\\\\\\\'+str(y), string=f)) for y in years]):\n",
    "                if sum([bool(re.search(pattern=w+'\\\\\\\\', string=f)) for w in weeks]):\n",
    "                    tap_off_files.append(f)\n",
    "\n",
    "                    \n",
    "                    \n",
    "print(pd.DataFrame(tap_on_files))\n",
    "print(pd.DataFrame(tap_off_files))\n"
   ]
  },
  {
   "cell_type": "markdown",
   "metadata": {},
   "source": [
    "Get the data"
   ]
  },
  {
   "cell_type": "code",
   "execution_count": 250,
   "metadata": {},
   "outputs": [
    {
     "data": {
      "text/html": [
       "<div>\n",
       "<style>\n",
       "    .dataframe thead tr:only-child th {\n",
       "        text-align: right;\n",
       "    }\n",
       "\n",
       "    .dataframe thead th {\n",
       "        text-align: left;\n",
       "    }\n",
       "\n",
       "    .dataframe tbody tr th {\n",
       "        vertical-align: top;\n",
       "    }\n",
       "</style>\n",
       "<table border=\"1\" class=\"dataframe\">\n",
       "  <thead>\n",
       "    <tr style=\"text-align: right;\">\n",
       "      <th></th>\n",
       "      <th>mode</th>\n",
       "      <th>businessdate</th>\n",
       "      <th>datetime</th>\n",
       "      <th>cardid</th>\n",
       "      <th>cardtype</th>\n",
       "      <th>vehicleid</th>\n",
       "      <th>parentroute</th>\n",
       "      <th>routeid</th>\n",
       "      <th>stopid</th>\n",
       "      <th>tap</th>\n",
       "    </tr>\n",
       "  </thead>\n",
       "  <tbody>\n",
       "    <tr>\n",
       "      <th>0</th>\n",
       "      <td>2</td>\n",
       "      <td>2018-01-11</td>\n",
       "      <td>2018-01-11 17:56:09</td>\n",
       "      <td>13451170</td>\n",
       "      <td>1</td>\n",
       "      <td>0</td>\n",
       "      <td>NaN</td>\n",
       "      <td>1</td>\n",
       "      <td>64404</td>\n",
       "      <td>on</td>\n",
       "    </tr>\n",
       "    <tr>\n",
       "      <th>1</th>\n",
       "      <td>2</td>\n",
       "      <td>2018-01-11</td>\n",
       "      <td>2018-01-11 17:23:20</td>\n",
       "      <td>21928980</td>\n",
       "      <td>1</td>\n",
       "      <td>0</td>\n",
       "      <td>NaN</td>\n",
       "      <td>1</td>\n",
       "      <td>64404</td>\n",
       "      <td>on</td>\n",
       "    </tr>\n",
       "    <tr>\n",
       "      <th>2</th>\n",
       "      <td>2</td>\n",
       "      <td>2018-01-11</td>\n",
       "      <td>2018-01-11 15:29:48</td>\n",
       "      <td>7719590</td>\n",
       "      <td>1</td>\n",
       "      <td>0</td>\n",
       "      <td>NaN</td>\n",
       "      <td>1</td>\n",
       "      <td>64404</td>\n",
       "      <td>on</td>\n",
       "    </tr>\n",
       "    <tr>\n",
       "      <th>3</th>\n",
       "      <td>2</td>\n",
       "      <td>2018-01-11</td>\n",
       "      <td>2018-01-11 17:17:53</td>\n",
       "      <td>17988890</td>\n",
       "      <td>1</td>\n",
       "      <td>0</td>\n",
       "      <td>NaN</td>\n",
       "      <td>1</td>\n",
       "      <td>64404</td>\n",
       "      <td>on</td>\n",
       "    </tr>\n",
       "    <tr>\n",
       "      <th>4</th>\n",
       "      <td>2</td>\n",
       "      <td>2018-01-11</td>\n",
       "      <td>2018-01-11 17:05:46</td>\n",
       "      <td>22592600</td>\n",
       "      <td>1</td>\n",
       "      <td>0</td>\n",
       "      <td>NaN</td>\n",
       "      <td>1</td>\n",
       "      <td>64404</td>\n",
       "      <td>on</td>\n",
       "    </tr>\n",
       "    <tr>\n",
       "      <th>5</th>\n",
       "      <td>2</td>\n",
       "      <td>2018-01-11</td>\n",
       "      <td>2018-01-11 09:10:03</td>\n",
       "      <td>21648190</td>\n",
       "      <td>1</td>\n",
       "      <td>0</td>\n",
       "      <td>NaN</td>\n",
       "      <td>1</td>\n",
       "      <td>64404</td>\n",
       "      <td>on</td>\n",
       "    </tr>\n",
       "    <tr>\n",
       "      <th>6</th>\n",
       "      <td>2</td>\n",
       "      <td>2018-01-11</td>\n",
       "      <td>2018-01-11 17:56:45</td>\n",
       "      <td>9108090</td>\n",
       "      <td>1</td>\n",
       "      <td>0</td>\n",
       "      <td>NaN</td>\n",
       "      <td>1</td>\n",
       "      <td>64404</td>\n",
       "      <td>on</td>\n",
       "    </tr>\n",
       "    <tr>\n",
       "      <th>7</th>\n",
       "      <td>2</td>\n",
       "      <td>2018-01-11</td>\n",
       "      <td>2018-01-11 18:19:34</td>\n",
       "      <td>20018830</td>\n",
       "      <td>1</td>\n",
       "      <td>0</td>\n",
       "      <td>NaN</td>\n",
       "      <td>1</td>\n",
       "      <td>64404</td>\n",
       "      <td>on</td>\n",
       "    </tr>\n",
       "    <tr>\n",
       "      <th>8</th>\n",
       "      <td>2</td>\n",
       "      <td>2018-01-11</td>\n",
       "      <td>2018-01-11 20:04:44</td>\n",
       "      <td>19928050</td>\n",
       "      <td>1</td>\n",
       "      <td>0</td>\n",
       "      <td>NaN</td>\n",
       "      <td>1</td>\n",
       "      <td>64404</td>\n",
       "      <td>on</td>\n",
       "    </tr>\n",
       "    <tr>\n",
       "      <th>9</th>\n",
       "      <td>2</td>\n",
       "      <td>2018-01-08</td>\n",
       "      <td>2018-01-08 16:20:08</td>\n",
       "      <td>18815410</td>\n",
       "      <td>1</td>\n",
       "      <td>0</td>\n",
       "      <td>NaN</td>\n",
       "      <td>1</td>\n",
       "      <td>64404</td>\n",
       "      <td>on</td>\n",
       "    </tr>\n",
       "  </tbody>\n",
       "</table>\n",
       "</div>"
      ],
      "text/plain": [
       "   mode businessdate             datetime    cardid  cardtype  vehicleid  \\\n",
       "0  2     2018-01-11   2018-01-11 17:56:09  13451170  1         0           \n",
       "1  2     2018-01-11   2018-01-11 17:23:20  21928980  1         0           \n",
       "2  2     2018-01-11   2018-01-11 15:29:48  7719590   1         0           \n",
       "3  2     2018-01-11   2018-01-11 17:17:53  17988890  1         0           \n",
       "4  2     2018-01-11   2018-01-11 17:05:46  22592600  1         0           \n",
       "5  2     2018-01-11   2018-01-11 09:10:03  21648190  1         0           \n",
       "6  2     2018-01-11   2018-01-11 17:56:45  9108090   1         0           \n",
       "7  2     2018-01-11   2018-01-11 18:19:34  20018830  1         0           \n",
       "8  2     2018-01-11   2018-01-11 20:04:44  19928050  1         0           \n",
       "9  2     2018-01-08   2018-01-08 16:20:08  18815410  1         0           \n",
       "\n",
       "  parentroute  routeid  stopid tap  \n",
       "0  NaN         1        64404   on  \n",
       "1  NaN         1        64404   on  \n",
       "2  NaN         1        64404   on  \n",
       "3  NaN         1        64404   on  \n",
       "4  NaN         1        64404   on  \n",
       "5  NaN         1        64404   on  \n",
       "6  NaN         1        64404   on  \n",
       "7  NaN         1        64404   on  \n",
       "8  NaN         1        64404   on  \n",
       "9  NaN         1        64404   on  "
      ]
     },
     "execution_count": 250,
     "metadata": {},
     "output_type": "execute_result"
    }
   ],
   "source": [
    "\n",
    "df_on = pd.concat([pd.read_csv(filepath_or_buffer=f, sep='|', compression='gzip', header=None) for f in tap_on_files])\n",
    "df_on.columns = ['mode', 'businessdate', 'datetime', 'cardid', 'cardtype', 'vehicleid', 'parentroute', 'routeid', 'stopid']\n",
    "df_on = df_on.assign(tap = 'on')\n",
    "\n",
    "df_off = pd.concat([pd.read_csv(filepath_or_buffer=f, sep='|', compression='gzip', header=None) for f in tap_off_files])\n",
    "df_off.columns = ['mode', 'businessdate', 'datetime', 'cardid', 'cardtype', 'vehicleid', 'parentroute', 'routeid', 'stopid']\n",
    "df_off = df_off.assign(tap = 'off')\n",
    "\n",
    "df = pd.concat([df_on,df_off])\n",
    "\n",
    "# remove unwanted files \n",
    "del(df_on)\n",
    "del(df_off)\n",
    "\n",
    "df.head(10)"
   ]
  },
  {
   "cell_type": "code",
   "execution_count": 251,
   "metadata": {},
   "outputs": [
    {
     "name": "stdout",
     "output_type": "stream",
     "text": [
      "(2138639, 10)\n"
     ]
    }
   ],
   "source": [
    "print(df.shape)"
   ]
  },
  {
   "cell_type": "code",
   "execution_count": 231,
   "metadata": {},
   "outputs": [
    {
     "name": "stdout",
     "output_type": "stream",
     "text": [
      "2    624643\n",
      "1    213816\n",
      "3    172663\n",
      "Name: mode, dtype: int64\n"
     ]
    },
    {
     "data": {
      "text/plain": [
       "<bound method Figure.show of <matplotlib.figure.Figure object at 0x00000197463929E8>>"
      ]
     },
     "execution_count": 231,
     "metadata": {},
     "output_type": "execute_result"
    },
    {
     "data": {
      "image/png": "[encoded data removed]",
      "text/plain": [
       "<matplotlib.figure.Figure at 0x197463929e8>"
      ]
     },
     "metadata": {},
     "output_type": "display_data"
    }
   ],
   "source": [
    "# Could be bus, tram, train..... might need a map to verity\n",
    "mode_counts = df.loc[:,'mode'].value_counts()\n",
    "\n",
    "fig, ax = plt.subplots()\n",
    "\n",
    "ax.bar(left=mode_counts.index, height=mode_counts)\n",
    "ax.set_xlabel('mode')\n",
    "ax.set_ylabel('count')\n",
    "\n",
    "print(mode_counts)\n",
    "\n",
    "fig.show\n"
   ]
  },
  {
   "cell_type": "code",
   "execution_count": 246,
   "metadata": {},
   "outputs": [
    {
     "data": {
      "text/plain": [
       "<matplotlib.text.Text at 0x197466ec048>"
      ]
     },
     "execution_count": 246,
     "metadata": {},
     "output_type": "execute_result"
    },
    {
     "data": {
      "image/png": "[encoded data removed]",
      "text/plain": [
       "<matplotlib.figure.Figure at 0x197468b95f8>"
      ]
     },
     "metadata": {},
     "output_type": "display_data"
    }
   ],
   "source": [
    "date_counts = df.loc[:,'businessdate'].value_counts().sort_index()\n",
    "# sunday to saturday \n",
    "\n",
    "ax = date_counts.plot(kind='bar')\n",
    "ax.set_xlabel('date')\n",
    "ax.set_ylabel('count')\n"
   ]
  },
  {
   "cell_type": "code",
   "execution_count": 248,
   "metadata": {},
   "outputs": [
    {
     "name": "stdout",
     "output_type": "stream",
     "text": [
      "off    431250\n",
      "on     579872\n",
      "Name: tap, dtype: int64\n"
     ]
    },
    {
     "data": {
      "text/plain": [
       "<matplotlib.text.Text at 0x19734a4eeb8>"
      ]
     },
     "execution_count": 248,
     "metadata": {},
     "output_type": "execute_result"
    },
    {
     "data": {
      "image/png": "[encoded data removed]",
      "text/plain": [
       "<matplotlib.figure.Figure at 0x19734765b70>"
      ]
     },
     "metadata": {},
     "output_type": "display_data"
    }
   ],
   "source": [
    "tap_counts = df.loc[:,'tap'].value_counts().sort_index()\n",
    "# sunday to saturday \n",
    "print(tap_counts)\n",
    "ax = tap_counts.plot(kind='bar')\n",
    "ax.set_xlabel('tap')\n",
    "ax.set_ylabel('count')"
   ]
  },
  {
   "cell_type": "code",
   "execution_count": null,
   "metadata": {
    "collapsed": true
   },
   "outputs": [],
   "source": []
  },
  {
   "cell_type": "code",
   "execution_count": null,
   "metadata": {
    "collapsed": true
   },
   "outputs": [],
   "source": []
  },
  {
   "cell_type": "code",
   "execution_count": null,
   "metadata": {
    "collapsed": true
   },
   "outputs": [],
   "source": []
  }
 ],
 "metadata": {
  "kernelspec": {
   "display_name": "Python 3",
   "language": "python",
   "name": "python3"
  },
  "language_info": {
   "codemirror_mode": {
    "name": "ipython",
    "version": 3
   },
   "file_extension": ".py",
   "mimetype": "text/x-python",
   "name": "python",
   "nbconvert_exporter": "python",
   "pygments_lexer": "ipython3",
   "version": "3.6.1"
  }
 },
 "nbformat": 4,
 "nbformat_minor": 2
}
